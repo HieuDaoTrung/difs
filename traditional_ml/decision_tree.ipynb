{
 "cells": [
  {
   "cell_type": "code",
   "execution_count": 5,
   "metadata": {},
   "outputs": [],
   "source": [
    "# Load sklearn prebuilt Wine dataset\n",
    "from sklearn.datasets import load_wine\n",
    "import numpy as np"
   ]
  },
  {
   "cell_type": "code",
   "execution_count": 7,
   "metadata": {},
   "outputs": [
    {
     "name": "stdout",
     "output_type": "stream",
     "text": [
      "<class 'sklearn.utils.Bunch'>\n"
     ]
    }
   ],
   "source": [
    "data = load_wine()\n",
    "print(type(data))"
   ]
  },
  {
   "cell_type": "code",
   "execution_count": 8,
   "metadata": {},
   "outputs": [],
   "source": [
    "def count_label_count(instances):\n",
    "    \"\"\"\n",
    "    Count the number of instances of each class in a given dataset\n",
    "\n",
    "    Args:\n",
    "        instances ([type]): Rows of the dataset\n",
    "    \"\"\"\n",
    "    label_count = {} # Dictionary to store the counts of each class\n",
    "    for instance in instances:\n",
    "        label = instance[-1]\n",
    "        if label not in label_count:\n",
    "            label_count[label] = 0\n",
    "\n",
    "        label_count[label] += 1\n",
    "    return label_count"
   ]
  },
  {
   "cell_type": "code",
   "execution_count": 9,
   "metadata": {},
   "outputs": [],
   "source": [
    "def is_numeric(value):\n",
    "    return isinstance(value, int) or isinstance(value, float)"
   ]
  },
  {
   "cell_type": "code",
   "execution_count": null,
   "metadata": {},
   "outputs": [],
   "source": []
  }
 ],
 "metadata": {
  "interpreter": {
   "hash": "a1725059e9baa276910b734757616efbadf7f5b30cb0239048e8185672483a64"
  },
  "kernelspec": {
   "display_name": "Python 3.9.6 64-bit ('samala': conda)",
   "language": "python",
   "name": "python3"
  },
  "language_info": {
   "codemirror_mode": {
    "name": "ipython",
    "version": 3
   },
   "file_extension": ".py",
   "mimetype": "text/x-python",
   "name": "python",
   "nbconvert_exporter": "python",
   "pygments_lexer": "ipython3",
   "version": "3.9.6"
  },
  "orig_nbformat": 4
 },
 "nbformat": 4,
 "nbformat_minor": 2
}
